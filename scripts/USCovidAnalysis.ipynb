{
 "cells": [
  {
   "cell_type": "code",
   "execution_count": 1,
   "metadata": {
    "collapsed": true,
    "pycharm": {
     "name": "#%%\n"
    }
   },
   "outputs": [],
   "source": [
    "import pandas as pd\n",
    "import numpy as np\n",
    "import plotly.express as px\n",
    "import json\n",
    "import requests\n",
    "import csv\n",
    "import re"
   ]
  },
  {
   "cell_type": "code",
   "execution_count": 2,
   "outputs": [
    {
     "data": {
      "text/plain": "          0                      1      2          3        4        5    \\\n0  countyFIPS            County Name  State  stateFIPS  1/22/20  1/23/20   \n1           0  Statewide Unallocated     AL          1        0        0   \n2        1001         Autauga County     AL          1        0        0   \n3        1003         Baldwin County     AL          1        0        0   \n4        1005         Barbour County     AL          1        0        0   \n\n       6        7        8        9    ...      186      187      188  \\\n0  1/24/20  1/25/20  1/26/20  1/27/20  ...  7/22/20  7/23/20  7/24/20   \n1        0        0        0        0  ...        0        0        0   \n2        0        0        0        0  ...      886      905      921   \n3        0        0        0        0  ...     2196     2461     2513   \n4        0        0        0        0  ...      518      534      539   \n\n       189      190      191      192      193      194      195  \n0  7/25/20  7/26/20  7/27/20  7/28/20  7/29/20  7/30/20  7/31/20  \n1        0        0        0        0        0        0        0  \n2      932      942      965      974      974     1002     1015  \n3     2662     2708     2770     2835     2835     3028     3101  \n4      552      562      569      575      575      585      598  \n\n[5 rows x 196 columns]",
      "text/html": "<div>\n<style scoped>\n    .dataframe tbody tr th:only-of-type {\n        vertical-align: middle;\n    }\n\n    .dataframe tbody tr th {\n        vertical-align: top;\n    }\n\n    .dataframe thead th {\n        text-align: right;\n    }\n</style>\n<table border=\"1\" class=\"dataframe\">\n  <thead>\n    <tr style=\"text-align: right;\">\n      <th></th>\n      <th>0</th>\n      <th>1</th>\n      <th>2</th>\n      <th>3</th>\n      <th>4</th>\n      <th>5</th>\n      <th>6</th>\n      <th>7</th>\n      <th>8</th>\n      <th>9</th>\n      <th>...</th>\n      <th>186</th>\n      <th>187</th>\n      <th>188</th>\n      <th>189</th>\n      <th>190</th>\n      <th>191</th>\n      <th>192</th>\n      <th>193</th>\n      <th>194</th>\n      <th>195</th>\n    </tr>\n  </thead>\n  <tbody>\n    <tr>\n      <th>0</th>\n      <td>countyFIPS</td>\n      <td>County Name</td>\n      <td>State</td>\n      <td>stateFIPS</td>\n      <td>1/22/20</td>\n      <td>1/23/20</td>\n      <td>1/24/20</td>\n      <td>1/25/20</td>\n      <td>1/26/20</td>\n      <td>1/27/20</td>\n      <td>...</td>\n      <td>7/22/20</td>\n      <td>7/23/20</td>\n      <td>7/24/20</td>\n      <td>7/25/20</td>\n      <td>7/26/20</td>\n      <td>7/27/20</td>\n      <td>7/28/20</td>\n      <td>7/29/20</td>\n      <td>7/30/20</td>\n      <td>7/31/20</td>\n    </tr>\n    <tr>\n      <th>1</th>\n      <td>0</td>\n      <td>Statewide Unallocated</td>\n      <td>AL</td>\n      <td>1</td>\n      <td>0</td>\n      <td>0</td>\n      <td>0</td>\n      <td>0</td>\n      <td>0</td>\n      <td>0</td>\n      <td>...</td>\n      <td>0</td>\n      <td>0</td>\n      <td>0</td>\n      <td>0</td>\n      <td>0</td>\n      <td>0</td>\n      <td>0</td>\n      <td>0</td>\n      <td>0</td>\n      <td>0</td>\n    </tr>\n    <tr>\n      <th>2</th>\n      <td>1001</td>\n      <td>Autauga County</td>\n      <td>AL</td>\n      <td>1</td>\n      <td>0</td>\n      <td>0</td>\n      <td>0</td>\n      <td>0</td>\n      <td>0</td>\n      <td>0</td>\n      <td>...</td>\n      <td>886</td>\n      <td>905</td>\n      <td>921</td>\n      <td>932</td>\n      <td>942</td>\n      <td>965</td>\n      <td>974</td>\n      <td>974</td>\n      <td>1002</td>\n      <td>1015</td>\n    </tr>\n    <tr>\n      <th>3</th>\n      <td>1003</td>\n      <td>Baldwin County</td>\n      <td>AL</td>\n      <td>1</td>\n      <td>0</td>\n      <td>0</td>\n      <td>0</td>\n      <td>0</td>\n      <td>0</td>\n      <td>0</td>\n      <td>...</td>\n      <td>2196</td>\n      <td>2461</td>\n      <td>2513</td>\n      <td>2662</td>\n      <td>2708</td>\n      <td>2770</td>\n      <td>2835</td>\n      <td>2835</td>\n      <td>3028</td>\n      <td>3101</td>\n    </tr>\n    <tr>\n      <th>4</th>\n      <td>1005</td>\n      <td>Barbour County</td>\n      <td>AL</td>\n      <td>1</td>\n      <td>0</td>\n      <td>0</td>\n      <td>0</td>\n      <td>0</td>\n      <td>0</td>\n      <td>0</td>\n      <td>...</td>\n      <td>518</td>\n      <td>534</td>\n      <td>539</td>\n      <td>552</td>\n      <td>562</td>\n      <td>569</td>\n      <td>575</td>\n      <td>575</td>\n      <td>585</td>\n      <td>598</td>\n    </tr>\n  </tbody>\n</table>\n<p>5 rows × 196 columns</p>\n</div>"
     },
     "execution_count": 2,
     "metadata": {},
     "output_type": "execute_result"
    }
   ],
   "source": [
    "link = 'https://usafactsstatic.blob.core.windows.net/public/data/covid-19/covid_confirmed_usafacts.csv'\n",
    "\n",
    "#Retrieve updated csv from USA Factbook\n",
    "with requests.Session() as session:\n",
    "    download = session.get(link)\n",
    "    decodedContent = download.content.decode('utf-8-sig')\n",
    "\n",
    "    content = csv.reader(decodedContent.splitlines(), delimiter = ',')\n",
    "    coviddf = pd.DataFrame(content)\n",
    "\n",
    "coviddf.head()"
   ],
   "metadata": {
    "collapsed": false,
    "pycharm": {
     "name": "#%%\n"
    }
   }
  },
  {
   "cell_type": "code",
   "execution_count": 3,
   "outputs": [
    {
     "data": {
      "text/plain": "0  countyFIPS            County Name State stateFIPS 1/22/20 1/23/20 1/24/20  \\\n1           0  Statewide Unallocated    AL         1       0       0       0   \n2        1001         Autauga County    AL         1       0       0       0   \n3        1003         Baldwin County    AL         1       0       0       0   \n4        1005         Barbour County    AL         1       0       0       0   \n5        1007            Bibb County    AL         1       0       0       0   \n\n0 1/25/20 1/26/20 1/27/20  ... 7/22/20 7/23/20 7/24/20 7/25/20 7/26/20  \\\n1       0       0       0  ...       0       0       0       0       0   \n2       0       0       0  ...     886     905     921     932     942   \n3       0       0       0  ...    2196    2461    2513    2662    2708   \n4       0       0       0  ...     518     534     539     552     562   \n5       0       0       0  ...     287     289     303     318     324   \n\n0 7/27/20 7/28/20 7/29/20 7/30/20 7/31/20  \n1       0       0       0       0       0  \n2     965     974     974    1002    1015  \n3    2770    2835    2835    3028    3101  \n4     569     575     575     585     598  \n5     334     337     338     352     363  \n\n[5 rows x 196 columns]",
      "text/html": "<div>\n<style scoped>\n    .dataframe tbody tr th:only-of-type {\n        vertical-align: middle;\n    }\n\n    .dataframe tbody tr th {\n        vertical-align: top;\n    }\n\n    .dataframe thead th {\n        text-align: right;\n    }\n</style>\n<table border=\"1\" class=\"dataframe\">\n  <thead>\n    <tr style=\"text-align: right;\">\n      <th></th>\n      <th>countyFIPS</th>\n      <th>County Name</th>\n      <th>State</th>\n      <th>stateFIPS</th>\n      <th>1/22/20</th>\n      <th>1/23/20</th>\n      <th>1/24/20</th>\n      <th>1/25/20</th>\n      <th>1/26/20</th>\n      <th>1/27/20</th>\n      <th>...</th>\n      <th>7/22/20</th>\n      <th>7/23/20</th>\n      <th>7/24/20</th>\n      <th>7/25/20</th>\n      <th>7/26/20</th>\n      <th>7/27/20</th>\n      <th>7/28/20</th>\n      <th>7/29/20</th>\n      <th>7/30/20</th>\n      <th>7/31/20</th>\n    </tr>\n  </thead>\n  <tbody>\n    <tr>\n      <th>1</th>\n      <td>0</td>\n      <td>Statewide Unallocated</td>\n      <td>AL</td>\n      <td>1</td>\n      <td>0</td>\n      <td>0</td>\n      <td>0</td>\n      <td>0</td>\n      <td>0</td>\n      <td>0</td>\n      <td>...</td>\n      <td>0</td>\n      <td>0</td>\n      <td>0</td>\n      <td>0</td>\n      <td>0</td>\n      <td>0</td>\n      <td>0</td>\n      <td>0</td>\n      <td>0</td>\n      <td>0</td>\n    </tr>\n    <tr>\n      <th>2</th>\n      <td>1001</td>\n      <td>Autauga County</td>\n      <td>AL</td>\n      <td>1</td>\n      <td>0</td>\n      <td>0</td>\n      <td>0</td>\n      <td>0</td>\n      <td>0</td>\n      <td>0</td>\n      <td>...</td>\n      <td>886</td>\n      <td>905</td>\n      <td>921</td>\n      <td>932</td>\n      <td>942</td>\n      <td>965</td>\n      <td>974</td>\n      <td>974</td>\n      <td>1002</td>\n      <td>1015</td>\n    </tr>\n    <tr>\n      <th>3</th>\n      <td>1003</td>\n      <td>Baldwin County</td>\n      <td>AL</td>\n      <td>1</td>\n      <td>0</td>\n      <td>0</td>\n      <td>0</td>\n      <td>0</td>\n      <td>0</td>\n      <td>0</td>\n      <td>...</td>\n      <td>2196</td>\n      <td>2461</td>\n      <td>2513</td>\n      <td>2662</td>\n      <td>2708</td>\n      <td>2770</td>\n      <td>2835</td>\n      <td>2835</td>\n      <td>3028</td>\n      <td>3101</td>\n    </tr>\n    <tr>\n      <th>4</th>\n      <td>1005</td>\n      <td>Barbour County</td>\n      <td>AL</td>\n      <td>1</td>\n      <td>0</td>\n      <td>0</td>\n      <td>0</td>\n      <td>0</td>\n      <td>0</td>\n      <td>0</td>\n      <td>...</td>\n      <td>518</td>\n      <td>534</td>\n      <td>539</td>\n      <td>552</td>\n      <td>562</td>\n      <td>569</td>\n      <td>575</td>\n      <td>575</td>\n      <td>585</td>\n      <td>598</td>\n    </tr>\n    <tr>\n      <th>5</th>\n      <td>1007</td>\n      <td>Bibb County</td>\n      <td>AL</td>\n      <td>1</td>\n      <td>0</td>\n      <td>0</td>\n      <td>0</td>\n      <td>0</td>\n      <td>0</td>\n      <td>0</td>\n      <td>...</td>\n      <td>287</td>\n      <td>289</td>\n      <td>303</td>\n      <td>318</td>\n      <td>324</td>\n      <td>334</td>\n      <td>337</td>\n      <td>338</td>\n      <td>352</td>\n      <td>363</td>\n    </tr>\n  </tbody>\n</table>\n<p>5 rows × 196 columns</p>\n</div>"
     },
     "execution_count": 3,
     "metadata": {},
     "output_type": "execute_result"
    }
   ],
   "source": [
    "#Get rid of unnecessary first few rows\n",
    "coviddf.columns = coviddf.iloc[0]\n",
    "coviddf = coviddf[1:]\n",
    "coviddf['countyFIPS'] = coviddf['countyFIPS'].astype(int)\n",
    "coviddf.head()"
   ],
   "metadata": {
    "collapsed": false,
    "pycharm": {
     "name": "#%%\n"
    }
   }
  },
  {
   "cell_type": "code",
   "execution_count": 4,
   "outputs": [],
   "source": [
    "unprocessed_coviddf = coviddf.copy(deep=False)"
   ],
   "metadata": {
    "collapsed": false,
    "pycharm": {
     "name": "#%%\n"
    }
   }
  },
  {
   "cell_type": "code",
   "execution_count": 5,
   "outputs": [
    {
     "data": {
      "text/plain": "0  countyFIPS     County Name State stateFIPS 1/22/20 1/23/20 1/24/20 1/25/20  \\\n2        1001  Autauga County    AL         1       0       0       0       0   \n3        1003  Baldwin County    AL         1       0       0       0       0   \n4        1005  Barbour County    AL         1       0       0       0       0   \n5        1007     Bibb County    AL         1       0       0       0       0   \n6        1009   Blount County    AL         1       0       0       0       0   \n\n0 1/26/20 1/27/20  ... 7/22/20 7/23/20 7/24/20 7/25/20 7/26/20 7/27/20  \\\n2       0       0  ...     886     905     921     932     942     965   \n3       0       0  ...    2196    2461    2513    2662    2708    2770   \n4       0       0  ...     518     534     539     552     562     569   \n5       0       0  ...     287     289     303     318     324     334   \n6       0       0  ...     547     585     615     637     646     669   \n\n0 7/28/20 7/29/20 7/30/20 7/31/20  \n2     974     974    1002    1015  \n3    2835    2835    3028    3101  \n4     575     575     585     598  \n5     337     338     352     363  \n6     675     675     731     767  \n\n[5 rows x 196 columns]",
      "text/html": "<div>\n<style scoped>\n    .dataframe tbody tr th:only-of-type {\n        vertical-align: middle;\n    }\n\n    .dataframe tbody tr th {\n        vertical-align: top;\n    }\n\n    .dataframe thead th {\n        text-align: right;\n    }\n</style>\n<table border=\"1\" class=\"dataframe\">\n  <thead>\n    <tr style=\"text-align: right;\">\n      <th></th>\n      <th>countyFIPS</th>\n      <th>County Name</th>\n      <th>State</th>\n      <th>stateFIPS</th>\n      <th>1/22/20</th>\n      <th>1/23/20</th>\n      <th>1/24/20</th>\n      <th>1/25/20</th>\n      <th>1/26/20</th>\n      <th>1/27/20</th>\n      <th>...</th>\n      <th>7/22/20</th>\n      <th>7/23/20</th>\n      <th>7/24/20</th>\n      <th>7/25/20</th>\n      <th>7/26/20</th>\n      <th>7/27/20</th>\n      <th>7/28/20</th>\n      <th>7/29/20</th>\n      <th>7/30/20</th>\n      <th>7/31/20</th>\n    </tr>\n  </thead>\n  <tbody>\n    <tr>\n      <th>2</th>\n      <td>1001</td>\n      <td>Autauga County</td>\n      <td>AL</td>\n      <td>1</td>\n      <td>0</td>\n      <td>0</td>\n      <td>0</td>\n      <td>0</td>\n      <td>0</td>\n      <td>0</td>\n      <td>...</td>\n      <td>886</td>\n      <td>905</td>\n      <td>921</td>\n      <td>932</td>\n      <td>942</td>\n      <td>965</td>\n      <td>974</td>\n      <td>974</td>\n      <td>1002</td>\n      <td>1015</td>\n    </tr>\n    <tr>\n      <th>3</th>\n      <td>1003</td>\n      <td>Baldwin County</td>\n      <td>AL</td>\n      <td>1</td>\n      <td>0</td>\n      <td>0</td>\n      <td>0</td>\n      <td>0</td>\n      <td>0</td>\n      <td>0</td>\n      <td>...</td>\n      <td>2196</td>\n      <td>2461</td>\n      <td>2513</td>\n      <td>2662</td>\n      <td>2708</td>\n      <td>2770</td>\n      <td>2835</td>\n      <td>2835</td>\n      <td>3028</td>\n      <td>3101</td>\n    </tr>\n    <tr>\n      <th>4</th>\n      <td>1005</td>\n      <td>Barbour County</td>\n      <td>AL</td>\n      <td>1</td>\n      <td>0</td>\n      <td>0</td>\n      <td>0</td>\n      <td>0</td>\n      <td>0</td>\n      <td>0</td>\n      <td>...</td>\n      <td>518</td>\n      <td>534</td>\n      <td>539</td>\n      <td>552</td>\n      <td>562</td>\n      <td>569</td>\n      <td>575</td>\n      <td>575</td>\n      <td>585</td>\n      <td>598</td>\n    </tr>\n    <tr>\n      <th>5</th>\n      <td>1007</td>\n      <td>Bibb County</td>\n      <td>AL</td>\n      <td>1</td>\n      <td>0</td>\n      <td>0</td>\n      <td>0</td>\n      <td>0</td>\n      <td>0</td>\n      <td>0</td>\n      <td>...</td>\n      <td>287</td>\n      <td>289</td>\n      <td>303</td>\n      <td>318</td>\n      <td>324</td>\n      <td>334</td>\n      <td>337</td>\n      <td>338</td>\n      <td>352</td>\n      <td>363</td>\n    </tr>\n    <tr>\n      <th>6</th>\n      <td>1009</td>\n      <td>Blount County</td>\n      <td>AL</td>\n      <td>1</td>\n      <td>0</td>\n      <td>0</td>\n      <td>0</td>\n      <td>0</td>\n      <td>0</td>\n      <td>0</td>\n      <td>...</td>\n      <td>547</td>\n      <td>585</td>\n      <td>615</td>\n      <td>637</td>\n      <td>646</td>\n      <td>669</td>\n      <td>675</td>\n      <td>675</td>\n      <td>731</td>\n      <td>767</td>\n    </tr>\n  </tbody>\n</table>\n<p>5 rows × 196 columns</p>\n</div>"
     },
     "execution_count": 5,
     "metadata": {},
     "output_type": "execute_result"
    }
   ],
   "source": [
    "#Get rid of statewide unallocated\n",
    "coviddf = coviddf[coviddf['countyFIPS']!=0]\n",
    "coviddf.head()"
   ],
   "metadata": {
    "collapsed": false,
    "pycharm": {
     "name": "#%%\n"
    }
   }
  },
  {
   "cell_type": "code",
   "execution_count": 6,
   "outputs": [
    {
     "data": {
      "text/plain": "0  countyFIPS     County Name State 7/31/20\n2        1001  Autauga County    AL    1015\n3        1003  Baldwin County    AL    3101\n4        1005  Barbour County    AL     598\n5        1007     Bibb County    AL     363\n6        1009   Blount County    AL     767",
      "text/html": "<div>\n<style scoped>\n    .dataframe tbody tr th:only-of-type {\n        vertical-align: middle;\n    }\n\n    .dataframe tbody tr th {\n        vertical-align: top;\n    }\n\n    .dataframe thead th {\n        text-align: right;\n    }\n</style>\n<table border=\"1\" class=\"dataframe\">\n  <thead>\n    <tr style=\"text-align: right;\">\n      <th></th>\n      <th>countyFIPS</th>\n      <th>County Name</th>\n      <th>State</th>\n      <th>7/31/20</th>\n    </tr>\n  </thead>\n  <tbody>\n    <tr>\n      <th>2</th>\n      <td>1001</td>\n      <td>Autauga County</td>\n      <td>AL</td>\n      <td>1015</td>\n    </tr>\n    <tr>\n      <th>3</th>\n      <td>1003</td>\n      <td>Baldwin County</td>\n      <td>AL</td>\n      <td>3101</td>\n    </tr>\n    <tr>\n      <th>4</th>\n      <td>1005</td>\n      <td>Barbour County</td>\n      <td>AL</td>\n      <td>598</td>\n    </tr>\n    <tr>\n      <th>5</th>\n      <td>1007</td>\n      <td>Bibb County</td>\n      <td>AL</td>\n      <td>363</td>\n    </tr>\n    <tr>\n      <th>6</th>\n      <td>1009</td>\n      <td>Blount County</td>\n      <td>AL</td>\n      <td>767</td>\n    </tr>\n  </tbody>\n</table>\n</div>"
     },
     "execution_count": 6,
     "metadata": {},
     "output_type": "execute_result"
    }
   ],
   "source": [
    "#Drop all the dates except the newest one\n",
    "coviddf.drop(coviddf.iloc[:,3:-1],axis=1,inplace=True)\n",
    "coviddf.head()"
   ],
   "metadata": {
    "collapsed": false,
    "pycharm": {
     "name": "#%%\n"
    }
   }
  },
  {
   "cell_type": "code",
   "execution_count": 7,
   "outputs": [
    {
     "data": {
      "text/plain": "   STATE COUNTY         CTYNAME  POPESTIMATE2019\n0      1    000         Alabama          4903185\n1      1    001  Autauga County            55869\n2      1    003  Baldwin County           223234\n3      1    005  Barbour County            24686\n4      1    007     Bibb County            22394",
      "text/html": "<div>\n<style scoped>\n    .dataframe tbody tr th:only-of-type {\n        vertical-align: middle;\n    }\n\n    .dataframe tbody tr th {\n        vertical-align: top;\n    }\n\n    .dataframe thead th {\n        text-align: right;\n    }\n</style>\n<table border=\"1\" class=\"dataframe\">\n  <thead>\n    <tr style=\"text-align: right;\">\n      <th></th>\n      <th>STATE</th>\n      <th>COUNTY</th>\n      <th>CTYNAME</th>\n      <th>POPESTIMATE2019</th>\n    </tr>\n  </thead>\n  <tbody>\n    <tr>\n      <th>0</th>\n      <td>1</td>\n      <td>000</td>\n      <td>Alabama</td>\n      <td>4903185</td>\n    </tr>\n    <tr>\n      <th>1</th>\n      <td>1</td>\n      <td>001</td>\n      <td>Autauga County</td>\n      <td>55869</td>\n    </tr>\n    <tr>\n      <th>2</th>\n      <td>1</td>\n      <td>003</td>\n      <td>Baldwin County</td>\n      <td>223234</td>\n    </tr>\n    <tr>\n      <th>3</th>\n      <td>1</td>\n      <td>005</td>\n      <td>Barbour County</td>\n      <td>24686</td>\n    </tr>\n    <tr>\n      <th>4</th>\n      <td>1</td>\n      <td>007</td>\n      <td>Bibb County</td>\n      <td>22394</td>\n    </tr>\n  </tbody>\n</table>\n</div>"
     },
     "execution_count": 7,
     "metadata": {},
     "output_type": "execute_result"
    }
   ],
   "source": [
    "#Get population data\n",
    "popdf = pd.read_csv('../data/us_popdata_2019.csv')\n",
    "\n",
    "#Condense pop. data\n",
    "popdf = popdf.loc[:,['STATE','COUNTY','CTYNAME','POPESTIMATE2019']]\n",
    "#Add leading zeros\n",
    "popdf['COUNTY'] = popdf['COUNTY'].apply(lambda x: str(x).zfill(3))\n",
    "popdf.head()"
   ],
   "metadata": {
    "collapsed": false,
    "pycharm": {
     "name": "#%%\n"
    }
   }
  },
  {
   "cell_type": "code",
   "execution_count": 8,
   "outputs": [
    {
     "data": {
      "text/plain": "   fips         CTYNAME  POPESTIMATE2019\n1  1001  Autauga County            55869\n2  1003  Baldwin County           223234\n3  1005  Barbour County            24686\n4  1007     Bibb County            22394\n5  1009   Blount County            57826",
      "text/html": "<div>\n<style scoped>\n    .dataframe tbody tr th:only-of-type {\n        vertical-align: middle;\n    }\n\n    .dataframe tbody tr th {\n        vertical-align: top;\n    }\n\n    .dataframe thead th {\n        text-align: right;\n    }\n</style>\n<table border=\"1\" class=\"dataframe\">\n  <thead>\n    <tr style=\"text-align: right;\">\n      <th></th>\n      <th>fips</th>\n      <th>CTYNAME</th>\n      <th>POPESTIMATE2019</th>\n    </tr>\n  </thead>\n  <tbody>\n    <tr>\n      <th>1</th>\n      <td>1001</td>\n      <td>Autauga County</td>\n      <td>55869</td>\n    </tr>\n    <tr>\n      <th>2</th>\n      <td>1003</td>\n      <td>Baldwin County</td>\n      <td>223234</td>\n    </tr>\n    <tr>\n      <th>3</th>\n      <td>1005</td>\n      <td>Barbour County</td>\n      <td>24686</td>\n    </tr>\n    <tr>\n      <th>4</th>\n      <td>1007</td>\n      <td>Bibb County</td>\n      <td>22394</td>\n    </tr>\n    <tr>\n      <th>5</th>\n      <td>1009</td>\n      <td>Blount County</td>\n      <td>57826</td>\n    </tr>\n  </tbody>\n</table>\n</div>"
     },
     "execution_count": 8,
     "metadata": {},
     "output_type": "execute_result"
    }
   ],
   "source": [
    "#Combine state and county to fips (county fips must match in both datasets)\n",
    "popdf.rename(columns={'COUNTY':'fips'},inplace=True)\n",
    "popdf['fips'] = popdf['STATE'].apply(lambda x: str(x))+popdf['fips']\n",
    "popdf.drop(labels=['STATE'],axis=1,inplace=True)\n",
    "popdf['fips']=pd.to_numeric(popdf['fips'])\n",
    "\n",
    "#Get rid of state levels\n",
    "popdf = popdf.loc[popdf['fips']%1000!=0]\n",
    "popdf.head()"
   ],
   "metadata": {
    "collapsed": false,
    "pycharm": {
     "name": "#%%\n"
    }
   }
  },
  {
   "cell_type": "code",
   "execution_count": 9,
   "outputs": [
    {
     "name": "stdout",
     "output_type": "stream",
     "text": [
      "[6000, 1, 2158, 46102]\n"
     ]
    }
   ],
   "source": [
    "#Get difference of counties\n",
    "print(list(set(coviddf['countyFIPS'])-set(popdf['fips'])))"
   ],
   "metadata": {
    "collapsed": false,
    "pycharm": {
     "name": "#%%\n"
    }
   }
  },
  {
   "cell_type": "code",
   "execution_count": 10,
   "outputs": [],
   "source": [
    "#Kusilvak and Wade Hampton are the same, get rid of Kusilvak to match GeoJSON\n",
    "coviddf = coviddf.loc[coviddf['County Name']!='Kusilvak Census Area']"
   ],
   "metadata": {
    "collapsed": false,
    "pycharm": {
     "name": "#%%\n"
    }
   }
  },
  {
   "cell_type": "code",
   "execution_count": 11,
   "outputs": [],
   "source": [
    "#Oglala Lakota County in the GeoJSON file is Shannon County (name was changed in 2015)\n",
    "coviddf.loc[coviddf['County Name']=='Oglala Lakota County', 'countyFIPS'] = 46113\n",
    "coviddf.loc[coviddf['countyFIPS']==46113, 'County Name'] = 'Shannon County'"
   ],
   "metadata": {
    "collapsed": false,
    "pycharm": {
     "name": "#%%\n"
    }
   }
  },
  {
   "cell_type": "code",
   "execution_count": 12,
   "outputs": [
    {
     "data": {
      "text/plain": "   countyFIPS         CTYNAME  POPESTIMATE2019\n1        1001  Autauga County            55869\n2        1003  Baldwin County           223234\n3        1005  Barbour County            24686\n4        1007     Bibb County            22394\n5        1009   Blount County            57826",
      "text/html": "<div>\n<style scoped>\n    .dataframe tbody tr th:only-of-type {\n        vertical-align: middle;\n    }\n\n    .dataframe tbody tr th {\n        vertical-align: top;\n    }\n\n    .dataframe thead th {\n        text-align: right;\n    }\n</style>\n<table border=\"1\" class=\"dataframe\">\n  <thead>\n    <tr style=\"text-align: right;\">\n      <th></th>\n      <th>countyFIPS</th>\n      <th>CTYNAME</th>\n      <th>POPESTIMATE2019</th>\n    </tr>\n  </thead>\n  <tbody>\n    <tr>\n      <th>1</th>\n      <td>1001</td>\n      <td>Autauga County</td>\n      <td>55869</td>\n    </tr>\n    <tr>\n      <th>2</th>\n      <td>1003</td>\n      <td>Baldwin County</td>\n      <td>223234</td>\n    </tr>\n    <tr>\n      <th>3</th>\n      <td>1005</td>\n      <td>Barbour County</td>\n      <td>24686</td>\n    </tr>\n    <tr>\n      <th>4</th>\n      <td>1007</td>\n      <td>Bibb County</td>\n      <td>22394</td>\n    </tr>\n    <tr>\n      <th>5</th>\n      <td>1009</td>\n      <td>Blount County</td>\n      <td>57826</td>\n    </tr>\n  </tbody>\n</table>\n</div>"
     },
     "execution_count": 12,
     "metadata": {},
     "output_type": "execute_result"
    }
   ],
   "source": [
    "popdf.rename(columns={'fips':'countyFIPS'},inplace=True)\n",
    "popdf.head()"
   ],
   "metadata": {
    "collapsed": false,
    "pycharm": {
     "name": "#%%\n"
    }
   }
  },
  {
   "cell_type": "code",
   "execution_count": 13,
   "outputs": [
    {
     "data": {
      "text/plain": "   countyFIPS     County Name State 7/31/20         CTYNAME  POPESTIMATE2019\n0        1001  Autauga County    AL    1015  Autauga County          55869.0\n1        1003  Baldwin County    AL    3101  Baldwin County         223234.0\n2        1005  Barbour County    AL     598  Barbour County          24686.0\n3        1007     Bibb County    AL     363     Bibb County          22394.0\n4        1009   Blount County    AL     767   Blount County          57826.0",
      "text/html": "<div>\n<style scoped>\n    .dataframe tbody tr th:only-of-type {\n        vertical-align: middle;\n    }\n\n    .dataframe tbody tr th {\n        vertical-align: top;\n    }\n\n    .dataframe thead th {\n        text-align: right;\n    }\n</style>\n<table border=\"1\" class=\"dataframe\">\n  <thead>\n    <tr style=\"text-align: right;\">\n      <th></th>\n      <th>countyFIPS</th>\n      <th>County Name</th>\n      <th>State</th>\n      <th>7/31/20</th>\n      <th>CTYNAME</th>\n      <th>POPESTIMATE2019</th>\n    </tr>\n  </thead>\n  <tbody>\n    <tr>\n      <th>0</th>\n      <td>1001</td>\n      <td>Autauga County</td>\n      <td>AL</td>\n      <td>1015</td>\n      <td>Autauga County</td>\n      <td>55869.0</td>\n    </tr>\n    <tr>\n      <th>1</th>\n      <td>1003</td>\n      <td>Baldwin County</td>\n      <td>AL</td>\n      <td>3101</td>\n      <td>Baldwin County</td>\n      <td>223234.0</td>\n    </tr>\n    <tr>\n      <th>2</th>\n      <td>1005</td>\n      <td>Barbour County</td>\n      <td>AL</td>\n      <td>598</td>\n      <td>Barbour County</td>\n      <td>24686.0</td>\n    </tr>\n    <tr>\n      <th>3</th>\n      <td>1007</td>\n      <td>Bibb County</td>\n      <td>AL</td>\n      <td>363</td>\n      <td>Bibb County</td>\n      <td>22394.0</td>\n    </tr>\n    <tr>\n      <th>4</th>\n      <td>1009</td>\n      <td>Blount County</td>\n      <td>AL</td>\n      <td>767</td>\n      <td>Blount County</td>\n      <td>57826.0</td>\n    </tr>\n  </tbody>\n</table>\n</div>"
     },
     "execution_count": 13,
     "metadata": {},
     "output_type": "execute_result"
    }
   ],
   "source": [
    "#Merge population/Covid data\n",
    "coviddf = pd.merge(left = coviddf, right = popdf, on = 'countyFIPS', how = 'outer')\n",
    "coviddf.head()"
   ],
   "metadata": {
    "collapsed": false,
    "pycharm": {
     "name": "#%%\n"
    }
   }
  },
  {
   "cell_type": "code",
   "execution_count": 14,
   "outputs": [],
   "source": [
    "#Drop counties that are not officially recognized (Princess Cruise Ship, NYC, etc.)\n",
    "coviddf = coviddf[coviddf['CTYNAME'].notna()]"
   ],
   "metadata": {
    "collapsed": false,
    "pycharm": {
     "name": "#%%\n"
    }
   }
  },
  {
   "cell_type": "code",
   "execution_count": 15,
   "outputs": [
    {
     "data": {
      "text/plain": "   countyFIPS     County Name 7/31/20  POPESTIMATE2019\n0        1001  Autauga County    1015          55869.0\n1        1003  Baldwin County    3101         223234.0\n2        1005  Barbour County     598          24686.0\n3        1007     Bibb County     363          22394.0\n4        1009   Blount County     767          57826.0",
      "text/html": "<div>\n<style scoped>\n    .dataframe tbody tr th:only-of-type {\n        vertical-align: middle;\n    }\n\n    .dataframe tbody tr th {\n        vertical-align: top;\n    }\n\n    .dataframe thead th {\n        text-align: right;\n    }\n</style>\n<table border=\"1\" class=\"dataframe\">\n  <thead>\n    <tr style=\"text-align: right;\">\n      <th></th>\n      <th>countyFIPS</th>\n      <th>County Name</th>\n      <th>7/31/20</th>\n      <th>POPESTIMATE2019</th>\n    </tr>\n  </thead>\n  <tbody>\n    <tr>\n      <th>0</th>\n      <td>1001</td>\n      <td>Autauga County</td>\n      <td>1015</td>\n      <td>55869.0</td>\n    </tr>\n    <tr>\n      <th>1</th>\n      <td>1003</td>\n      <td>Baldwin County</td>\n      <td>3101</td>\n      <td>223234.0</td>\n    </tr>\n    <tr>\n      <th>2</th>\n      <td>1005</td>\n      <td>Barbour County</td>\n      <td>598</td>\n      <td>24686.0</td>\n    </tr>\n    <tr>\n      <th>3</th>\n      <td>1007</td>\n      <td>Bibb County</td>\n      <td>363</td>\n      <td>22394.0</td>\n    </tr>\n    <tr>\n      <th>4</th>\n      <td>1009</td>\n      <td>Blount County</td>\n      <td>767</td>\n      <td>57826.0</td>\n    </tr>\n  </tbody>\n</table>\n</div>"
     },
     "execution_count": 15,
     "metadata": {},
     "output_type": "execute_result"
    }
   ],
   "source": [
    "#Drop unneeded columns\n",
    "coviddf.drop(labels=['CTYNAME','State'], axis=1, inplace=True,)\n",
    "coviddf.head()"
   ],
   "metadata": {
    "collapsed": false,
    "pycharm": {
     "name": "#%%\n"
    }
   }
  },
  {
   "cell_type": "code",
   "execution_count": 16,
   "outputs": [
    {
     "data": {
      "text/plain": "   countyFIPS     County Name   cases  POPESTIMATE2019\n0        1001  Autauga County  1015.0          55869.0\n1        1003  Baldwin County  3101.0         223234.0\n2        1005  Barbour County   598.0          24686.0\n3        1007     Bibb County   363.0          22394.0\n4        1009   Blount County   767.0          57826.0",
      "text/html": "<div>\n<style scoped>\n    .dataframe tbody tr th:only-of-type {\n        vertical-align: middle;\n    }\n\n    .dataframe tbody tr th {\n        vertical-align: top;\n    }\n\n    .dataframe thead th {\n        text-align: right;\n    }\n</style>\n<table border=\"1\" class=\"dataframe\">\n  <thead>\n    <tr style=\"text-align: right;\">\n      <th></th>\n      <th>countyFIPS</th>\n      <th>County Name</th>\n      <th>cases</th>\n      <th>POPESTIMATE2019</th>\n    </tr>\n  </thead>\n  <tbody>\n    <tr>\n      <th>0</th>\n      <td>1001</td>\n      <td>Autauga County</td>\n      <td>1015.0</td>\n      <td>55869.0</td>\n    </tr>\n    <tr>\n      <th>1</th>\n      <td>1003</td>\n      <td>Baldwin County</td>\n      <td>3101.0</td>\n      <td>223234.0</td>\n    </tr>\n    <tr>\n      <th>2</th>\n      <td>1005</td>\n      <td>Barbour County</td>\n      <td>598.0</td>\n      <td>24686.0</td>\n    </tr>\n    <tr>\n      <th>3</th>\n      <td>1007</td>\n      <td>Bibb County</td>\n      <td>363.0</td>\n      <td>22394.0</td>\n    </tr>\n    <tr>\n      <th>4</th>\n      <td>1009</td>\n      <td>Blount County</td>\n      <td>767.0</td>\n      <td>57826.0</td>\n    </tr>\n  </tbody>\n</table>\n</div>"
     },
     "execution_count": 16,
     "metadata": {},
     "output_type": "execute_result"
    }
   ],
   "source": [
    "#Rename most recent date column and convert columns to int\n",
    "date = str(coviddf.columns.to_list()[-2])\n",
    "coviddf.rename(columns={coviddf.columns[-2]:'cases'},inplace=True)\n",
    "coviddf['cases'] = coviddf['cases'].astype('float64')\n",
    "coviddf['POPESTIMATE2019'] = coviddf['POPESTIMATE2019'].astype('float64')\n",
    "coviddf.head()\n"
   ],
   "metadata": {
    "collapsed": false,
    "pycharm": {
     "name": "#%%\n"
    }
   }
  },
  {
   "cell_type": "code",
   "execution_count": 17,
   "outputs": [
    {
     "data": {
      "text/plain": "   countyFIPS     County Name   cases  POPESTIMATE2019  cases_per_100k\n0        1001  Autauga County  1015.0          55869.0     1816.749897\n1        1003  Baldwin County  3101.0         223234.0     1389.125312\n2        1005  Barbour County   598.0          24686.0     2422.425666\n3        1007     Bibb County   363.0          22394.0     1620.969903\n4        1009   Blount County   767.0          57826.0     1326.392972",
      "text/html": "<div>\n<style scoped>\n    .dataframe tbody tr th:only-of-type {\n        vertical-align: middle;\n    }\n\n    .dataframe tbody tr th {\n        vertical-align: top;\n    }\n\n    .dataframe thead th {\n        text-align: right;\n    }\n</style>\n<table border=\"1\" class=\"dataframe\">\n  <thead>\n    <tr style=\"text-align: right;\">\n      <th></th>\n      <th>countyFIPS</th>\n      <th>County Name</th>\n      <th>cases</th>\n      <th>POPESTIMATE2019</th>\n      <th>cases_per_100k</th>\n    </tr>\n  </thead>\n  <tbody>\n    <tr>\n      <th>0</th>\n      <td>1001</td>\n      <td>Autauga County</td>\n      <td>1015.0</td>\n      <td>55869.0</td>\n      <td>1816.749897</td>\n    </tr>\n    <tr>\n      <th>1</th>\n      <td>1003</td>\n      <td>Baldwin County</td>\n      <td>3101.0</td>\n      <td>223234.0</td>\n      <td>1389.125312</td>\n    </tr>\n    <tr>\n      <th>2</th>\n      <td>1005</td>\n      <td>Barbour County</td>\n      <td>598.0</td>\n      <td>24686.0</td>\n      <td>2422.425666</td>\n    </tr>\n    <tr>\n      <th>3</th>\n      <td>1007</td>\n      <td>Bibb County</td>\n      <td>363.0</td>\n      <td>22394.0</td>\n      <td>1620.969903</td>\n    </tr>\n    <tr>\n      <th>4</th>\n      <td>1009</td>\n      <td>Blount County</td>\n      <td>767.0</td>\n      <td>57826.0</td>\n      <td>1326.392972</td>\n    </tr>\n  </tbody>\n</table>\n</div>"
     },
     "execution_count": 17,
     "metadata": {},
     "output_type": "execute_result"
    }
   ],
   "source": [
    "#Add cases per 100k\n",
    "coviddf['cases_per_100k'] = coviddf['cases'].div(coviddf['POPESTIMATE2019']).mul(100000)\n",
    "coviddf['cases_per_100k'] = coviddf['cases_per_100k'].astype('float64')\n",
    "coviddf.head()"
   ],
   "metadata": {
    "collapsed": false,
    "pycharm": {
     "name": "#%%\n"
    }
   }
  },
  {
   "cell_type": "code",
   "execution_count": 18,
   "outputs": [
    {
     "data": {
      "text/plain": "       countyFIPS     County Name   cases  POPESTIMATE2019  cases_per_100k\n0  0500000US01001  Autauga County  1015.0          55869.0     1816.749897\n1  0500000US01003  Baldwin County  3101.0         223234.0     1389.125312\n2  0500000US01005  Barbour County   598.0          24686.0     2422.425666\n3  0500000US01007     Bibb County   363.0          22394.0     1620.969903\n4  0500000US01009   Blount County   767.0          57826.0     1326.392972",
      "text/html": "<div>\n<style scoped>\n    .dataframe tbody tr th:only-of-type {\n        vertical-align: middle;\n    }\n\n    .dataframe tbody tr th {\n        vertical-align: top;\n    }\n\n    .dataframe thead th {\n        text-align: right;\n    }\n</style>\n<table border=\"1\" class=\"dataframe\">\n  <thead>\n    <tr style=\"text-align: right;\">\n      <th></th>\n      <th>countyFIPS</th>\n      <th>County Name</th>\n      <th>cases</th>\n      <th>POPESTIMATE2019</th>\n      <th>cases_per_100k</th>\n    </tr>\n  </thead>\n  <tbody>\n    <tr>\n      <th>0</th>\n      <td>0500000US01001</td>\n      <td>Autauga County</td>\n      <td>1015.0</td>\n      <td>55869.0</td>\n      <td>1816.749897</td>\n    </tr>\n    <tr>\n      <th>1</th>\n      <td>0500000US01003</td>\n      <td>Baldwin County</td>\n      <td>3101.0</td>\n      <td>223234.0</td>\n      <td>1389.125312</td>\n    </tr>\n    <tr>\n      <th>2</th>\n      <td>0500000US01005</td>\n      <td>Barbour County</td>\n      <td>598.0</td>\n      <td>24686.0</td>\n      <td>2422.425666</td>\n    </tr>\n    <tr>\n      <th>3</th>\n      <td>0500000US01007</td>\n      <td>Bibb County</td>\n      <td>363.0</td>\n      <td>22394.0</td>\n      <td>1620.969903</td>\n    </tr>\n    <tr>\n      <th>4</th>\n      <td>0500000US01009</td>\n      <td>Blount County</td>\n      <td>767.0</td>\n      <td>57826.0</td>\n      <td>1326.392972</td>\n    </tr>\n  </tbody>\n</table>\n</div>"
     },
     "execution_count": 18,
     "metadata": {},
     "output_type": "execute_result"
    }
   ],
   "source": [
    "#Format to GeoJSON id\n",
    "coviddf['countyFIPS']=\"0500000US\"+coviddf['countyFIPS'].apply(lambda x: str(x).zfill(5))\n",
    "coviddf.head()"
   ],
   "metadata": {
    "collapsed": false,
    "pycharm": {
     "name": "#%%\n"
    }
   }
  },
  {
   "cell_type": "code",
   "execution_count": 19,
   "outputs": [
    {
     "data": {
      "text/plain": "      county_fips     county_name   cases  population  cases_per_100k\n0  0500000US01001  Autauga County  1015.0     55869.0     1816.749897\n1  0500000US01003  Baldwin County  3101.0    223234.0     1389.125312\n2  0500000US01005  Barbour County   598.0     24686.0     2422.425666\n3  0500000US01007     Bibb County   363.0     22394.0     1620.969903\n4  0500000US01009   Blount County   767.0     57826.0     1326.392972",
      "text/html": "<div>\n<style scoped>\n    .dataframe tbody tr th:only-of-type {\n        vertical-align: middle;\n    }\n\n    .dataframe tbody tr th {\n        vertical-align: top;\n    }\n\n    .dataframe thead th {\n        text-align: right;\n    }\n</style>\n<table border=\"1\" class=\"dataframe\">\n  <thead>\n    <tr style=\"text-align: right;\">\n      <th></th>\n      <th>county_fips</th>\n      <th>county_name</th>\n      <th>cases</th>\n      <th>population</th>\n      <th>cases_per_100k</th>\n    </tr>\n  </thead>\n  <tbody>\n    <tr>\n      <th>0</th>\n      <td>0500000US01001</td>\n      <td>Autauga County</td>\n      <td>1015.0</td>\n      <td>55869.0</td>\n      <td>1816.749897</td>\n    </tr>\n    <tr>\n      <th>1</th>\n      <td>0500000US01003</td>\n      <td>Baldwin County</td>\n      <td>3101.0</td>\n      <td>223234.0</td>\n      <td>1389.125312</td>\n    </tr>\n    <tr>\n      <th>2</th>\n      <td>0500000US01005</td>\n      <td>Barbour County</td>\n      <td>598.0</td>\n      <td>24686.0</td>\n      <td>2422.425666</td>\n    </tr>\n    <tr>\n      <th>3</th>\n      <td>0500000US01007</td>\n      <td>Bibb County</td>\n      <td>363.0</td>\n      <td>22394.0</td>\n      <td>1620.969903</td>\n    </tr>\n    <tr>\n      <th>4</th>\n      <td>0500000US01009</td>\n      <td>Blount County</td>\n      <td>767.0</td>\n      <td>57826.0</td>\n      <td>1326.392972</td>\n    </tr>\n  </tbody>\n</table>\n</div>"
     },
     "execution_count": 19,
     "metadata": {},
     "output_type": "execute_result"
    }
   ],
   "source": [
    "#Rename for a better naming system\n",
    "coviddf.rename(columns={'countyFIPS':'county_fips','County Name':'county_name','POPESTIMATE2019':'population'}, inplace=True)\n",
    "coviddf.head()"
   ],
   "metadata": {
    "collapsed": false,
    "pycharm": {
     "name": "#%%\n"
    }
   }
  },
  {
   "cell_type": "code",
   "execution_count": 20,
   "outputs": [],
   "source": [
    "#Format date for file output name\n",
    "date_components = re.split('(\\W)', date)\n",
    "for i in np.arange(0, len(date_components), 2):\n",
    "    date_components[i] = date_components[i].zfill(2)\n",
    "date_components = ['_' if x=='/' else x for x in date_components]\n",
    "date = ''.join(date_components)"
   ],
   "metadata": {
    "collapsed": false,
    "pycharm": {
     "name": "#%%\n"
    }
   }
  },
  {
   "cell_type": "code",
   "execution_count": 21,
   "outputs": [],
   "source": [
    "#Export processed and unprocessed dataframes\n",
    "coviddf.to_csv('../output/Processed - USCovidbyCounty_'+date+'.csv',index=False)\n",
    "unprocessed_coviddf.to_csv('../output/Unprocessed - USCovidbyCounty_'+date+'.csv',index=False)"
   ],
   "metadata": {
    "collapsed": false,
    "pycharm": {
     "name": "#%%\n"
    }
   }
  },
  {
   "cell_type": "code",
   "execution_count": 22,
   "outputs": [],
   "source": [
    "#Export choropleth map\n",
    "\n",
    "uscounties = '../data/uscounties.json'\n",
    "\n",
    "usmap = json.load(open(uscounties))\n",
    "\n",
    "fig=px.choropleth_mapbox(data_frame=coviddf,\n",
    "                    geojson=usmap,\n",
    "                    featureidkey='properties.GEO_ID',\n",
    "                    locations='county_fips',\n",
    "                    color='cases_per_100k',\n",
    "                    color_continuous_scale='Viridis',\n",
    "                    zoom=3,\n",
    "                    opacity=0.7,\n",
    "                    #Colours range from minimum of dataset to 99th percentile\n",
    "                    range_color=(coviddf['cases_per_100k'].min(), np.percentile(coviddf['cases_per_100k'].tolist(), 99)),\n",
    "                    mapbox_style='carto-positron',\n",
    "                    hover_name='county_name')\n",
    "\n",
    "fig.write_html('../output/uscoviddistribution_'+date+'.html')"
   ],
   "metadata": {
    "collapsed": false,
    "pycharm": {
     "name": "#%%\n"
    }
   }
  }
 ],
 "metadata": {
  "kernelspec": {
   "display_name": "Python 3",
   "language": "python",
   "name": "python3"
  },
  "language_info": {
   "codemirror_mode": {
    "name": "ipython",
    "version": 2
   },
   "file_extension": ".py",
   "mimetype": "text/x-python",
   "name": "python",
   "nbconvert_exporter": "python",
   "pygments_lexer": "ipython2",
   "version": "2.7.6"
  }
 },
 "nbformat": 4,
 "nbformat_minor": 0
}