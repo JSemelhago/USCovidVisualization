{
 "cells": [
  {
   "cell_type": "code",
   "execution_count": 1,
   "metadata": {
    "collapsed": true,
    "pycharm": {
     "name": "#%%\n"
    }
   },
   "outputs": [],
   "source": [
    "import pandas as pd\n",
    "import numpy as np\n",
    "import plotly.express as px\n",
    "import json\n",
    "import requests\n",
    "import csv"
   ]
  },
  {
   "cell_type": "code",
   "execution_count": null,
   "outputs": [],
   "source": [
    "link = 'https://usafactsstatic.blob.core.windows.net/public/data/covid-19/covid_confirmed_usafacts.csv'\n",
    "\n",
    "#Retrieve updated csv from USA Factbook\n",
    "with requests.Session() as session:\n",
    "    download = session.get(link)\n",
    "    decodedContent = download.content.decode('utf-8-sig')\n",
    "\n",
    "    content = csv.reader(decodedContent.splitlines(), delimiter = ',')\n",
    "    coviddf = pd.DataFrame(content)\n",
    "\n",
    "coviddf.head()"
   ],
   "metadata": {
    "collapsed": false,
    "pycharm": {
     "name": "#%%\n"
    }
   }
  },
  {
   "cell_type": "code",
   "execution_count": 85,
   "outputs": [],
   "source": [
    "#Get rid of unnecessary first few columns\n",
    "coviddf.columns = coviddf.iloc[0]\n",
    "coviddf = coviddf[1:]\n",
    "coviddf['countyFIPS'] = coviddf['countyFIPS'].astype(int)\n",
    "coviddf.head()"
   ],
   "metadata": {
    "collapsed": false,
    "pycharm": {
     "name": "#%%\n"
    }
   }
  },
  {
   "cell_type": "code",
   "execution_count": 86,
   "outputs": [
    {
     "data": {
      "text/plain": "0  countyFIPS     County Name State stateFIPS 1/22/20 1/23/20 1/24/20 1/25/20  \\\n2        1001  Autauga County    AL         1       0       0       0       0   \n3        1003  Baldwin County    AL         1       0       0       0       0   \n4        1005  Barbour County    AL         1       0       0       0       0   \n5        1007     Bibb County    AL         1       0       0       0       0   \n6        1009   Blount County    AL         1       0       0       0       0   \n\n0 1/26/20 1/27/20  ... 7/2/20 7/3/20 7/4/20 7/5/20 7/6/20 7/7/20 7/8/20  \\\n2       0       0  ...    561    568    591    615    618    644    651   \n3       0       0  ...    751    845    863    881    911    997   1056   \n4       0       0  ...    335    348    350    352    356    360    366   \n5       0       0  ...    179    189    190    193    197    199    201   \n6       0       0  ...    222    230    234    239    247    255    262   \n\n0 7/9/20 7/10/20 7/11/20  \n2    661     670     684  \n3   1131    1187    1224  \n4    371     381     398  \n5    211     218     224  \n6    282     292     307  \n\n[5 rows x 176 columns]",
      "text/html": "<div>\n<style scoped>\n    .dataframe tbody tr th:only-of-type {\n        vertical-align: middle;\n    }\n\n    .dataframe tbody tr th {\n        vertical-align: top;\n    }\n\n    .dataframe thead th {\n        text-align: right;\n    }\n</style>\n<table border=\"1\" class=\"dataframe\">\n  <thead>\n    <tr style=\"text-align: right;\">\n      <th></th>\n      <th>countyFIPS</th>\n      <th>County Name</th>\n      <th>State</th>\n      <th>stateFIPS</th>\n      <th>1/22/20</th>\n      <th>1/23/20</th>\n      <th>1/24/20</th>\n      <th>1/25/20</th>\n      <th>1/26/20</th>\n      <th>1/27/20</th>\n      <th>...</th>\n      <th>7/2/20</th>\n      <th>7/3/20</th>\n      <th>7/4/20</th>\n      <th>7/5/20</th>\n      <th>7/6/20</th>\n      <th>7/7/20</th>\n      <th>7/8/20</th>\n      <th>7/9/20</th>\n      <th>7/10/20</th>\n      <th>7/11/20</th>\n    </tr>\n  </thead>\n  <tbody>\n    <tr>\n      <th>2</th>\n      <td>1001</td>\n      <td>Autauga County</td>\n      <td>AL</td>\n      <td>1</td>\n      <td>0</td>\n      <td>0</td>\n      <td>0</td>\n      <td>0</td>\n      <td>0</td>\n      <td>0</td>\n      <td>...</td>\n      <td>561</td>\n      <td>568</td>\n      <td>591</td>\n      <td>615</td>\n      <td>618</td>\n      <td>644</td>\n      <td>651</td>\n      <td>661</td>\n      <td>670</td>\n      <td>684</td>\n    </tr>\n    <tr>\n      <th>3</th>\n      <td>1003</td>\n      <td>Baldwin County</td>\n      <td>AL</td>\n      <td>1</td>\n      <td>0</td>\n      <td>0</td>\n      <td>0</td>\n      <td>0</td>\n      <td>0</td>\n      <td>0</td>\n      <td>...</td>\n      <td>751</td>\n      <td>845</td>\n      <td>863</td>\n      <td>881</td>\n      <td>911</td>\n      <td>997</td>\n      <td>1056</td>\n      <td>1131</td>\n      <td>1187</td>\n      <td>1224</td>\n    </tr>\n    <tr>\n      <th>4</th>\n      <td>1005</td>\n      <td>Barbour County</td>\n      <td>AL</td>\n      <td>1</td>\n      <td>0</td>\n      <td>0</td>\n      <td>0</td>\n      <td>0</td>\n      <td>0</td>\n      <td>0</td>\n      <td>...</td>\n      <td>335</td>\n      <td>348</td>\n      <td>350</td>\n      <td>352</td>\n      <td>356</td>\n      <td>360</td>\n      <td>366</td>\n      <td>371</td>\n      <td>381</td>\n      <td>398</td>\n    </tr>\n    <tr>\n      <th>5</th>\n      <td>1007</td>\n      <td>Bibb County</td>\n      <td>AL</td>\n      <td>1</td>\n      <td>0</td>\n      <td>0</td>\n      <td>0</td>\n      <td>0</td>\n      <td>0</td>\n      <td>0</td>\n      <td>...</td>\n      <td>179</td>\n      <td>189</td>\n      <td>190</td>\n      <td>193</td>\n      <td>197</td>\n      <td>199</td>\n      <td>201</td>\n      <td>211</td>\n      <td>218</td>\n      <td>224</td>\n    </tr>\n    <tr>\n      <th>6</th>\n      <td>1009</td>\n      <td>Blount County</td>\n      <td>AL</td>\n      <td>1</td>\n      <td>0</td>\n      <td>0</td>\n      <td>0</td>\n      <td>0</td>\n      <td>0</td>\n      <td>0</td>\n      <td>...</td>\n      <td>222</td>\n      <td>230</td>\n      <td>234</td>\n      <td>239</td>\n      <td>247</td>\n      <td>255</td>\n      <td>262</td>\n      <td>282</td>\n      <td>292</td>\n      <td>307</td>\n    </tr>\n  </tbody>\n</table>\n<p>5 rows × 176 columns</p>\n</div>"
     },
     "execution_count": 86,
     "metadata": {},
     "output_type": "execute_result"
    }
   ],
   "source": [
    "#Get rid of statewide unallocated\n",
    "coviddf = coviddf[coviddf['countyFIPS']!=0]\n",
    "coviddf.head()"
   ],
   "metadata": {
    "collapsed": false,
    "pycharm": {
     "name": "#%%\n"
    }
   }
  },
  {
   "cell_type": "code",
   "execution_count": 87,
   "outputs": [],
   "source": [
    "#Drop all the dates except the newest one\n",
    "coviddf.drop(coviddf.iloc[:,3:-1],axis=1,inplace=True)\n",
    "coviddf.head()"
   ],
   "metadata": {
    "collapsed": false,
    "pycharm": {
     "name": "#%%\n"
    }
   }
  },
  {
   "cell_type": "code",
   "execution_count": 88,
   "outputs": [
    {
     "data": {
      "text/plain": "   STATE COUNTY         CTYNAME  POPESTIMATE2019\n0      1    000         Alabama          4903185\n1      1    001  Autauga County            55869\n2      1    003  Baldwin County           223234\n3      1    005  Barbour County            24686\n4      1    007     Bibb County            22394",
      "text/html": "<div>\n<style scoped>\n    .dataframe tbody tr th:only-of-type {\n        vertical-align: middle;\n    }\n\n    .dataframe tbody tr th {\n        vertical-align: top;\n    }\n\n    .dataframe thead th {\n        text-align: right;\n    }\n</style>\n<table border=\"1\" class=\"dataframe\">\n  <thead>\n    <tr style=\"text-align: right;\">\n      <th></th>\n      <th>STATE</th>\n      <th>COUNTY</th>\n      <th>CTYNAME</th>\n      <th>POPESTIMATE2019</th>\n    </tr>\n  </thead>\n  <tbody>\n    <tr>\n      <th>0</th>\n      <td>1</td>\n      <td>000</td>\n      <td>Alabama</td>\n      <td>4903185</td>\n    </tr>\n    <tr>\n      <th>1</th>\n      <td>1</td>\n      <td>001</td>\n      <td>Autauga County</td>\n      <td>55869</td>\n    </tr>\n    <tr>\n      <th>2</th>\n      <td>1</td>\n      <td>003</td>\n      <td>Baldwin County</td>\n      <td>223234</td>\n    </tr>\n    <tr>\n      <th>3</th>\n      <td>1</td>\n      <td>005</td>\n      <td>Barbour County</td>\n      <td>24686</td>\n    </tr>\n    <tr>\n      <th>4</th>\n      <td>1</td>\n      <td>007</td>\n      <td>Bibb County</td>\n      <td>22394</td>\n    </tr>\n  </tbody>\n</table>\n</div>"
     },
     "execution_count": 88,
     "metadata": {},
     "output_type": "execute_result"
    }
   ],
   "source": [
    "#Get population data\n",
    "popdf = pd.read_csv('co-est2019-alldata.csv')\n",
    "\n",
    "#Condense pop. data\n",
    "popdf = popdf.loc[:,['STATE','COUNTY','CTYNAME','POPESTIMATE2019']]\n",
    "#Add leading zeros\n",
    "popdf['COUNTY'] = popdf['COUNTY'].apply(lambda x: str(x).zfill(3))\n",
    "popdf.head()"
   ],
   "metadata": {
    "collapsed": false,
    "pycharm": {
     "name": "#%%\n"
    }
   }
  },
  {
   "cell_type": "code",
   "execution_count": 89,
   "outputs": [
    {
     "data": {
      "text/plain": "   fips         CTYNAME  POPESTIMATE2019\n1  1001  Autauga County            55869\n2  1003  Baldwin County           223234\n3  1005  Barbour County            24686\n4  1007     Bibb County            22394\n5  1009   Blount County            57826",
      "text/html": "<div>\n<style scoped>\n    .dataframe tbody tr th:only-of-type {\n        vertical-align: middle;\n    }\n\n    .dataframe tbody tr th {\n        vertical-align: top;\n    }\n\n    .dataframe thead th {\n        text-align: right;\n    }\n</style>\n<table border=\"1\" class=\"dataframe\">\n  <thead>\n    <tr style=\"text-align: right;\">\n      <th></th>\n      <th>fips</th>\n      <th>CTYNAME</th>\n      <th>POPESTIMATE2019</th>\n    </tr>\n  </thead>\n  <tbody>\n    <tr>\n      <th>1</th>\n      <td>1001</td>\n      <td>Autauga County</td>\n      <td>55869</td>\n    </tr>\n    <tr>\n      <th>2</th>\n      <td>1003</td>\n      <td>Baldwin County</td>\n      <td>223234</td>\n    </tr>\n    <tr>\n      <th>3</th>\n      <td>1005</td>\n      <td>Barbour County</td>\n      <td>24686</td>\n    </tr>\n    <tr>\n      <th>4</th>\n      <td>1007</td>\n      <td>Bibb County</td>\n      <td>22394</td>\n    </tr>\n    <tr>\n      <th>5</th>\n      <td>1009</td>\n      <td>Blount County</td>\n      <td>57826</td>\n    </tr>\n  </tbody>\n</table>\n</div>"
     },
     "execution_count": 89,
     "metadata": {},
     "output_type": "execute_result"
    }
   ],
   "source": [
    "#Combine state and county to fips (county fips must match in both datasets)\n",
    "popdf.rename(columns={'COUNTY':'fips'},inplace=True)\n",
    "popdf['fips'] = popdf['STATE'].apply(lambda x: str(x))+popdf['fips']\n",
    "popdf.drop(labels=['STATE'],axis=1,inplace=True)\n",
    "popdf['fips']=pd.to_numeric(popdf['fips'])\n",
    "\n",
    "#Get rid of state levels\n",
    "popdf = popdf.loc[popdf['fips']%1000!=0]\n",
    "popdf.head()"
   ],
   "metadata": {
    "collapsed": false,
    "pycharm": {
     "name": "#%%\n"
    }
   }
  },
  {
   "cell_type": "code",
   "execution_count": 90,
   "outputs": [
    {
     "name": "stdout",
     "output_type": "stream",
     "text": [
      "[6000, 1, 2158, 46102]\n"
     ]
    }
   ],
   "source": [
    "#Get difference of counties\n",
    "print(list(set(coviddf['countyFIPS'])-set(popdf['fips'])))"
   ],
   "metadata": {
    "collapsed": false,
    "pycharm": {
     "name": "#%%\n"
    }
   }
  },
  {
   "cell_type": "code",
   "execution_count": 91,
   "outputs": [],
   "source": [
    "#Kusilvak and Wade Hampton are the same, get rid of Kusilvak to match GeoJSON\n",
    "coviddf = coviddf.loc[coviddf['County Name']!='Kusilvak Census Area']"
   ],
   "metadata": {
    "collapsed": false,
    "pycharm": {
     "name": "#%%\n"
    }
   }
  },
  {
   "cell_type": "code",
   "execution_count": 92,
   "outputs": [],
   "source": [
    "#Oglala Lakota County in the GeoJSON file is Shannon County (name was changed in 2015)\n",
    "coviddf.loc[coviddf['County Name']=='Oglala Lakota County', 'countyFIPS'] = 46113\n",
    "coviddf.loc[coviddf['countyFIPS']==46113, 'County Name'] = 'Shannon County'"
   ],
   "metadata": {
    "collapsed": false,
    "pycharm": {
     "name": "#%%\n"
    }
   }
  },
  {
   "cell_type": "code",
   "execution_count": 93,
   "outputs": [],
   "source": [
    "popdf.rename(columns={'fips':'countyFIPS'},inplace=True)\n",
    "popdf.head()"
   ],
   "metadata": {
    "collapsed": false,
    "pycharm": {
     "name": "#%%\n"
    }
   }
  },
  {
   "cell_type": "code",
   "execution_count": 94,
   "outputs": [],
   "source": [
    "#Merge population/Covid data\n",
    "coviddf = pd.merge(left = coviddf, right = popdf, on = 'countyFIPS', how = 'outer')\n",
    "coviddf.head()"
   ],
   "metadata": {
    "collapsed": false,
    "pycharm": {
     "name": "#%%\n"
    }
   }
  },
  {
   "cell_type": "code",
   "execution_count": 95,
   "outputs": [],
   "source": [
    "#Drop counties that are not officially recognized (Princess Cruise Ship, NYC, etc.)\n",
    "coviddf = coviddf[coviddf['CTYNAME'].notna()]"
   ],
   "metadata": {
    "collapsed": false,
    "pycharm": {
     "name": "#%%\n"
    }
   }
  },
  {
   "cell_type": "code",
   "execution_count": 96,
   "outputs": [
    {
     "data": {
      "text/plain": "   countyFIPS     County Name 7/11/20  POPESTIMATE2019\n0        1001  Autauga County     684          55869.0\n1        1003  Baldwin County    1224         223234.0\n2        1005  Barbour County     398          24686.0\n3        1007     Bibb County     224          22394.0\n4        1009   Blount County     307          57826.0",
      "text/html": "<div>\n<style scoped>\n    .dataframe tbody tr th:only-of-type {\n        vertical-align: middle;\n    }\n\n    .dataframe tbody tr th {\n        vertical-align: top;\n    }\n\n    .dataframe thead th {\n        text-align: right;\n    }\n</style>\n<table border=\"1\" class=\"dataframe\">\n  <thead>\n    <tr style=\"text-align: right;\">\n      <th></th>\n      <th>countyFIPS</th>\n      <th>County Name</th>\n      <th>7/11/20</th>\n      <th>POPESTIMATE2019</th>\n    </tr>\n  </thead>\n  <tbody>\n    <tr>\n      <th>0</th>\n      <td>1001</td>\n      <td>Autauga County</td>\n      <td>684</td>\n      <td>55869.0</td>\n    </tr>\n    <tr>\n      <th>1</th>\n      <td>1003</td>\n      <td>Baldwin County</td>\n      <td>1224</td>\n      <td>223234.0</td>\n    </tr>\n    <tr>\n      <th>2</th>\n      <td>1005</td>\n      <td>Barbour County</td>\n      <td>398</td>\n      <td>24686.0</td>\n    </tr>\n    <tr>\n      <th>3</th>\n      <td>1007</td>\n      <td>Bibb County</td>\n      <td>224</td>\n      <td>22394.0</td>\n    </tr>\n    <tr>\n      <th>4</th>\n      <td>1009</td>\n      <td>Blount County</td>\n      <td>307</td>\n      <td>57826.0</td>\n    </tr>\n  </tbody>\n</table>\n</div>"
     },
     "execution_count": 96,
     "metadata": {},
     "output_type": "execute_result"
    }
   ],
   "source": [
    "#Drop unneeded columns\n",
    "coviddf.drop(labels=['CTYNAME','State'], axis=1, inplace=True,)\n",
    "coviddf.head()"
   ],
   "metadata": {
    "collapsed": false,
    "pycharm": {
     "name": "#%%\n"
    }
   }
  },
  {
   "cell_type": "code",
   "execution_count": 97,
   "outputs": [
    {
     "data": {
      "text/plain": "   countyFIPS     County Name   cases  POPESTIMATE2019\n0        1001  Autauga County   684.0          55869.0\n1        1003  Baldwin County  1224.0         223234.0\n2        1005  Barbour County   398.0          24686.0\n3        1007     Bibb County   224.0          22394.0\n4        1009   Blount County   307.0          57826.0",
      "text/html": "<div>\n<style scoped>\n    .dataframe tbody tr th:only-of-type {\n        vertical-align: middle;\n    }\n\n    .dataframe tbody tr th {\n        vertical-align: top;\n    }\n\n    .dataframe thead th {\n        text-align: right;\n    }\n</style>\n<table border=\"1\" class=\"dataframe\">\n  <thead>\n    <tr style=\"text-align: right;\">\n      <th></th>\n      <th>countyFIPS</th>\n      <th>County Name</th>\n      <th>cases</th>\n      <th>POPESTIMATE2019</th>\n    </tr>\n  </thead>\n  <tbody>\n    <tr>\n      <th>0</th>\n      <td>1001</td>\n      <td>Autauga County</td>\n      <td>684.0</td>\n      <td>55869.0</td>\n    </tr>\n    <tr>\n      <th>1</th>\n      <td>1003</td>\n      <td>Baldwin County</td>\n      <td>1224.0</td>\n      <td>223234.0</td>\n    </tr>\n    <tr>\n      <th>2</th>\n      <td>1005</td>\n      <td>Barbour County</td>\n      <td>398.0</td>\n      <td>24686.0</td>\n    </tr>\n    <tr>\n      <th>3</th>\n      <td>1007</td>\n      <td>Bibb County</td>\n      <td>224.0</td>\n      <td>22394.0</td>\n    </tr>\n    <tr>\n      <th>4</th>\n      <td>1009</td>\n      <td>Blount County</td>\n      <td>307.0</td>\n      <td>57826.0</td>\n    </tr>\n  </tbody>\n</table>\n</div>"
     },
     "execution_count": 97,
     "metadata": {},
     "output_type": "execute_result"
    }
   ],
   "source": [
    "#Rename most recent date column and convert columns to int\n",
    "coviddf.rename(columns={coviddf.columns[-2]:'cases'},inplace=True)\n",
    "coviddf['cases'] = coviddf['cases'].astype(float)\n",
    "coviddf['POPESTIMATE2019'] = coviddf['POPESTIMATE2019'].astype(float)\n",
    "coviddf.head()"
   ],
   "metadata": {
    "collapsed": false,
    "pycharm": {
     "name": "#%%\n"
    }
   }
  },
  {
   "cell_type": "code",
   "execution_count": 98,
   "outputs": [
    {
     "data": {
      "text/plain": "   countyFIPS     County Name   cases  POPESTIMATE2019  cases_per_100k\n0        1001  Autauga County   684.0          55869.0     1224.292541\n1        1003  Baldwin County  1224.0         223234.0      548.303574\n2        1005  Barbour County   398.0          24686.0     1612.249858\n3        1007     Bibb County   224.0          22394.0     1000.267929\n4        1009   Blount County   307.0          57826.0      530.903054",
      "text/html": "<div>\n<style scoped>\n    .dataframe tbody tr th:only-of-type {\n        vertical-align: middle;\n    }\n\n    .dataframe tbody tr th {\n        vertical-align: top;\n    }\n\n    .dataframe thead th {\n        text-align: right;\n    }\n</style>\n<table border=\"1\" class=\"dataframe\">\n  <thead>\n    <tr style=\"text-align: right;\">\n      <th></th>\n      <th>countyFIPS</th>\n      <th>County Name</th>\n      <th>cases</th>\n      <th>POPESTIMATE2019</th>\n      <th>cases_per_100k</th>\n    </tr>\n  </thead>\n  <tbody>\n    <tr>\n      <th>0</th>\n      <td>1001</td>\n      <td>Autauga County</td>\n      <td>684.0</td>\n      <td>55869.0</td>\n      <td>1224.292541</td>\n    </tr>\n    <tr>\n      <th>1</th>\n      <td>1003</td>\n      <td>Baldwin County</td>\n      <td>1224.0</td>\n      <td>223234.0</td>\n      <td>548.303574</td>\n    </tr>\n    <tr>\n      <th>2</th>\n      <td>1005</td>\n      <td>Barbour County</td>\n      <td>398.0</td>\n      <td>24686.0</td>\n      <td>1612.249858</td>\n    </tr>\n    <tr>\n      <th>3</th>\n      <td>1007</td>\n      <td>Bibb County</td>\n      <td>224.0</td>\n      <td>22394.0</td>\n      <td>1000.267929</td>\n    </tr>\n    <tr>\n      <th>4</th>\n      <td>1009</td>\n      <td>Blount County</td>\n      <td>307.0</td>\n      <td>57826.0</td>\n      <td>530.903054</td>\n    </tr>\n  </tbody>\n</table>\n</div>"
     },
     "execution_count": 98,
     "metadata": {},
     "output_type": "execute_result"
    }
   ],
   "source": [
    "#Add cases per 100k\n",
    "coviddf['cases_per_100k'] = coviddf['cases'].div(coviddf['POPESTIMATE2019']).mul(100000)\n",
    "coviddf.head()"
   ],
   "metadata": {
    "collapsed": false,
    "pycharm": {
     "name": "#%%\n"
    }
   }
  },
  {
   "cell_type": "code",
   "execution_count": 99,
   "outputs": [
    {
     "data": {
      "text/plain": "       countyFIPS     County Name   cases  POPESTIMATE2019  cases_per_100k\n0  0500000US01001  Autauga County   684.0          55869.0     1224.292541\n1  0500000US01003  Baldwin County  1224.0         223234.0      548.303574\n2  0500000US01005  Barbour County   398.0          24686.0     1612.249858\n3  0500000US01007     Bibb County   224.0          22394.0     1000.267929\n4  0500000US01009   Blount County   307.0          57826.0      530.903054",
      "text/html": "<div>\n<style scoped>\n    .dataframe tbody tr th:only-of-type {\n        vertical-align: middle;\n    }\n\n    .dataframe tbody tr th {\n        vertical-align: top;\n    }\n\n    .dataframe thead th {\n        text-align: right;\n    }\n</style>\n<table border=\"1\" class=\"dataframe\">\n  <thead>\n    <tr style=\"text-align: right;\">\n      <th></th>\n      <th>countyFIPS</th>\n      <th>County Name</th>\n      <th>cases</th>\n      <th>POPESTIMATE2019</th>\n      <th>cases_per_100k</th>\n    </tr>\n  </thead>\n  <tbody>\n    <tr>\n      <th>0</th>\n      <td>0500000US01001</td>\n      <td>Autauga County</td>\n      <td>684.0</td>\n      <td>55869.0</td>\n      <td>1224.292541</td>\n    </tr>\n    <tr>\n      <th>1</th>\n      <td>0500000US01003</td>\n      <td>Baldwin County</td>\n      <td>1224.0</td>\n      <td>223234.0</td>\n      <td>548.303574</td>\n    </tr>\n    <tr>\n      <th>2</th>\n      <td>0500000US01005</td>\n      <td>Barbour County</td>\n      <td>398.0</td>\n      <td>24686.0</td>\n      <td>1612.249858</td>\n    </tr>\n    <tr>\n      <th>3</th>\n      <td>0500000US01007</td>\n      <td>Bibb County</td>\n      <td>224.0</td>\n      <td>22394.0</td>\n      <td>1000.267929</td>\n    </tr>\n    <tr>\n      <th>4</th>\n      <td>0500000US01009</td>\n      <td>Blount County</td>\n      <td>307.0</td>\n      <td>57826.0</td>\n      <td>530.903054</td>\n    </tr>\n  </tbody>\n</table>\n</div>"
     },
     "execution_count": 99,
     "metadata": {},
     "output_type": "execute_result"
    }
   ],
   "source": [
    "#Format to GeoJSON id\n",
    "coviddf['countyFIPS']=\"0500000US\"+coviddf['countyFIPS'].apply(lambda x: str(x).zfill(5))\n",
    "coviddf.head()"
   ],
   "metadata": {
    "collapsed": false,
    "pycharm": {
     "name": "#%%\n"
    }
   }
  },
  {
   "cell_type": "code",
   "execution_count": 100,
   "outputs": [
    {
     "data": {
      "text/plain": "      county_fips     county_name   cases  population  cases_per_100k\n0  0500000US01001  Autauga County   684.0     55869.0     1224.292541\n1  0500000US01003  Baldwin County  1224.0    223234.0      548.303574\n2  0500000US01005  Barbour County   398.0     24686.0     1612.249858\n3  0500000US01007     Bibb County   224.0     22394.0     1000.267929\n4  0500000US01009   Blount County   307.0     57826.0      530.903054",
      "text/html": "<div>\n<style scoped>\n    .dataframe tbody tr th:only-of-type {\n        vertical-align: middle;\n    }\n\n    .dataframe tbody tr th {\n        vertical-align: top;\n    }\n\n    .dataframe thead th {\n        text-align: right;\n    }\n</style>\n<table border=\"1\" class=\"dataframe\">\n  <thead>\n    <tr style=\"text-align: right;\">\n      <th></th>\n      <th>county_fips</th>\n      <th>county_name</th>\n      <th>cases</th>\n      <th>population</th>\n      <th>cases_per_100k</th>\n    </tr>\n  </thead>\n  <tbody>\n    <tr>\n      <th>0</th>\n      <td>0500000US01001</td>\n      <td>Autauga County</td>\n      <td>684.0</td>\n      <td>55869.0</td>\n      <td>1224.292541</td>\n    </tr>\n    <tr>\n      <th>1</th>\n      <td>0500000US01003</td>\n      <td>Baldwin County</td>\n      <td>1224.0</td>\n      <td>223234.0</td>\n      <td>548.303574</td>\n    </tr>\n    <tr>\n      <th>2</th>\n      <td>0500000US01005</td>\n      <td>Barbour County</td>\n      <td>398.0</td>\n      <td>24686.0</td>\n      <td>1612.249858</td>\n    </tr>\n    <tr>\n      <th>3</th>\n      <td>0500000US01007</td>\n      <td>Bibb County</td>\n      <td>224.0</td>\n      <td>22394.0</td>\n      <td>1000.267929</td>\n    </tr>\n    <tr>\n      <th>4</th>\n      <td>0500000US01009</td>\n      <td>Blount County</td>\n      <td>307.0</td>\n      <td>57826.0</td>\n      <td>530.903054</td>\n    </tr>\n  </tbody>\n</table>\n</div>"
     },
     "execution_count": 100,
     "metadata": {},
     "output_type": "execute_result"
    }
   ],
   "source": [
    "#Rename for a better naming system\n",
    "coviddf.rename(columns={'countyFIPS':'county_fips','County Name':'county_name','POPESTIMATE2019':'population'}, inplace=True)\n",
    "coviddf.head()"
   ],
   "metadata": {
    "collapsed": false,
    "pycharm": {
     "name": "#%%\n"
    }
   }
  },
  {
   "cell_type": "code",
   "execution_count": 101,
   "outputs": [],
   "source": [
    "#Export\n",
    "coviddf.to_csv('USCovidbyCounty.csv',index=False)"
   ],
   "metadata": {
    "collapsed": false,
    "pycharm": {
     "name": "#%%\n"
    }
   }
  },
  {
   "cell_type": "code",
   "execution_count": 5,
   "outputs": [],
   "source": [
    "#Export choropleth map\n",
    "\n",
    "uscounties = 'uscounties.json'\n",
    "\n",
    "usmap = json.load(open(uscounties))\n",
    "\n",
    "fig1=px.choropleth_mapbox(data_frame=coviddf,\n",
    "                    geojson=usmap,\n",
    "                    featureidkey='properties.GEO_ID',\n",
    "                    locations='county_fips',\n",
    "                    color='cases_per_100k',\n",
    "                    color_continuous_scale='Viridis',\n",
    "                    zoom=3,\n",
    "                    opacity=0.7,\n",
    "                    #Colours range from minimum of dataset to 99th percentile\n",
    "                    range_color=(coviddf['cases_per_100k'].min(), np.percentile(coviddf['cases_per_100k'].tolist(), 99)),\n",
    "                    mapbox_style='carto-positron',\n",
    "                    hover_name='county_name')\n",
    "\n",
    "fig1.write_html('uscoviddistribution_current.html')"
   ],
   "metadata": {
    "collapsed": false,
    "pycharm": {
     "name": "#%%\n"
    }
   }
  }
 ],
 "metadata": {
  "kernelspec": {
   "display_name": "Python 3",
   "language": "python",
   "name": "python3"
  },
  "language_info": {
   "codemirror_mode": {
    "name": "ipython",
    "version": 2
   },
   "file_extension": ".py",
   "mimetype": "text/x-python",
   "name": "python",
   "nbconvert_exporter": "python",
   "pygments_lexer": "ipython2",
   "version": "2.7.6"
  }
 },
 "nbformat": 4,
 "nbformat_minor": 0
}